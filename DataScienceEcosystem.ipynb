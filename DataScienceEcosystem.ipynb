{
 "cells": [
  {
   "cell_type": "markdown",
   "id": "abf168fd-9700-4201-ac6d-b2030648058c",
   "metadata": {},
   "source": [
    "# Data Science Tools and Ecosystem"
   ]
  },
  {
   "cell_type": "markdown",
   "id": "1bb157a8-2982-46da-82ed-e340e7fbddab",
   "metadata": {},
   "source": [
    "In this notebook, Data Science Tools and Ecosystem are summarized."
   ]
  },
  {
   "cell_type": "markdown",
   "id": "fcdcd928-68c3-457d-ba43-439b10efb21b",
   "metadata": {},
   "source": [
    "**Objectives:**\n",
    "- Popular languages for Data Science.\n",
    "- Commonly used libraries.\n",
    "- Data Science Tools Table.\n",
    "- Arithmetic Expressions."
   ]
  },
  {
   "cell_type": "markdown",
   "id": "d6814948-995f-49cf-9b8b-504d5e3f8eba",
   "metadata": {},
   "source": [
    "Some of the popular languages that Data Scientists use are:\n",
    "1. Python\n",
    "2. R\n",
    "3. Scala\n",
    "4. Julia"
   ]
  },
  {
   "cell_type": "markdown",
   "id": "ab2b7359-ec90-43cd-bf48-1f2cdcc4f20a",
   "metadata": {},
   "source": [
    "Some of the commonly used libraries used by Data Scientists include:\n",
    "+ ggplot2\n",
    "+ tidyverse\n",
    "+ dplyr"
   ]
  },
  {
   "cell_type": "markdown",
   "id": "8fe5d75d-85f8-47cd-b9c8-e44901c4c953",
   "metadata": {},
   "source": [
    "|Data Science Tools|\n",
    "|------------------|\n",
    "|R studio|\n",
    "|Jypiter Notebooks|\n",
    "|Anaconda Navigator|\n"
   ]
  },
  {
   "cell_type": "markdown",
   "id": "06e3ff68-174d-4b9e-abe5-874d003c926f",
   "metadata": {},
   "source": [
    "### Below are a few examples of evaluating arithmetic expressions in Python"
   ]
  },
  {
   "cell_type": "code",
   "execution_count": 2,
   "id": "5ee94e07-5047-4df3-9cfa-337f2b4ec01b",
   "metadata": {},
   "outputs": [
    {
     "data": {
      "text/plain": [
       "17"
      ]
     },
     "execution_count": 2,
     "metadata": {},
     "output_type": "execute_result"
    }
   ],
   "source": [
    "(3*4)+5"
   ]
  },
  {
   "cell_type": "markdown",
   "id": "5a4625bd-b557-480a-a952-743b909138e8",
   "metadata": {},
   "source": [
    "This a simple arithmetic expression to mutiply then add integers"
   ]
  },
  {
   "cell_type": "code",
   "execution_count": 13,
   "id": "218024a3-98c5-4ef4-8293-6ca67616bc32",
   "metadata": {},
   "outputs": [
    {
     "data": {
      "text/plain": [
       "3.3333333333333335"
      ]
     },
     "execution_count": 13,
     "metadata": {},
     "output_type": "execute_result"
    }
   ],
   "source": [
    "minutes=200\n",
    "hours= minutes /60\n",
    "hours"
   ]
  },
  {
   "cell_type": "markdown",
   "id": "0545810f-706a-4d4f-877f-a010430c046a",
   "metadata": {},
   "source": [
    "## Author\n",
    "Jose Lazcano"
   ]
  },
  {
   "cell_type": "code",
   "execution_count": null,
   "id": "dcc44703-fef0-4ba5-9cbd-602a5441dfd6",
   "metadata": {},
   "outputs": [],
   "source": []
  }
 ],
 "metadata": {
  "kernelspec": {
   "display_name": "Python 3 (ipykernel)",
   "language": "python",
   "name": "python3"
  },
  "language_info": {
   "codemirror_mode": {
    "name": "ipython",
    "version": 3
   },
   "file_extension": ".py",
   "mimetype": "text/x-python",
   "name": "python",
   "nbconvert_exporter": "python",
   "pygments_lexer": "ipython3",
   "version": "3.12.8"
  }
 },
 "nbformat": 4,
 "nbformat_minor": 5
}
